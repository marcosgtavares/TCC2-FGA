{
 "cells": [
  {
   "cell_type": "code",
   "execution_count": 1,
   "id": "e746e08d-ef31-4e76-a5ae-92274ab91adc",
   "metadata": {},
   "outputs": [
    {
     "data": {
      "text/plain": [
       "<Experiment: artifact_location='mlflow-artifacts:/205621345073508802', creation_time=1717291921234, experiment_id='205621345073508802', last_update_time=1717291921234, lifecycle_stage='active', name='FAKE_BERT', tags={}>"
      ]
     },
     "execution_count": 1,
     "metadata": {},
     "output_type": "execute_result"
    }
   ],
   "source": [
    "import mlflow\n",
    "import optuna\n",
    "mlflow.set_tracking_uri(\"http://localhost:5000\")\n",
    "def get_or_create_experiment(experiment_name):\n",
    "    \"\"\"\n",
    "    Retrieve the ID of an existing MLflow experiment or create a new one if it doesn't exist.\n",
    "\n",
    "    This function checks if an experiment with the given name exists within MLflow.\n",
    "    If it does, the function returns its ID. If not, it creates a new experiment\n",
    "    with the provided name and returns its ID.\n",
    "\n",
    "    Parameters:\n",
    "    - experiment_name (str): Name of the MLflow experiment.\n",
    "\n",
    "    Returns:\n",
    "    - str: ID of the existing or newly created MLflow experiment.\n",
    "    \"\"\"\n",
    "\n",
    "    if experiment := mlflow.get_experiment_by_name(experiment_name):\n",
    "        return experiment.experiment_id\n",
    "    else:\n",
    "        return mlflow.create_experiment(experiment_name)\n",
    "experiment_id = get_or_create_experiment(\"FAKE_BERT\")\n",
    "mlflow.set_experiment(experiment_id=experiment_id)"
   ]
  },
  {
   "cell_type": "code",
   "execution_count": 2,
   "id": "53594c2c-38c8-4cef-b168-b761af6ec5b8",
   "metadata": {},
   "outputs": [],
   "source": [
    "def champion_callback(study, frozen_trial):\n",
    "    \"\"\"\n",
    "    Logging callback that will report when a new trial iteration improves upon existing\n",
    "    best trial values.\n",
    "\n",
    "    Note: This callback is not intended for use in distributed computing systems such as Spark\n",
    "    or Ray due to the micro-batch iterative implementation for distributing trials to a cluster's\n",
    "    workers or agents.\n",
    "    The race conditions with file system state management for distributed trials will render\n",
    "    inconsistent values with this callback.\n",
    "    \"\"\"\n",
    "\n",
    "    winner = study.user_attrs.get(\"winner\", None)\n",
    "    if study.best_value and winner != study.best_value:\n",
    "        study.set_user_attr(\"winner\", study.best_value)\n",
    "        if winner:\n",
    "            improvement_percent = (abs(winner - study.best_value) / study.best_value) * 100\n",
    "            print(\n",
    "                f\"Trial {frozen_trial.number} achieved value: {frozen_trial.value} with \"\n",
    "                f\"{improvement_percent: .4f}% improvement\"\n",
    "            )\n",
    "        else:\n",
    "            print(f\"Initial trial {frozen_trial.number} achieved value: {frozen_trial.value}\")"
   ]
  },
  {
   "cell_type": "code",
   "execution_count": 3,
   "id": "081598bd-96f9-4aeb-8388-96e079a77efc",
   "metadata": {},
   "outputs": [],
   "source": [
    "import pandas as pd\n",
    "train = pd.concat([pd.read_csv(\"fake_train_balanced_indexed.csv\"), pd.read_csv(\"fake_train_full_paraphrased_aug_indexed_balanced_llama3.csv\")]).reset_index()\n",
    "# pd.read_csv(\"fake_train_inc_full_backtranslated_aug_indexed_balanced_v1.csv\"), pd.read_csv(\"fake_train_full_paraphrased_aug_indexed_balanced_llama3.csv\")\n",
    "validate = pd.read_csv(\"fake_validate_balanced_indexed.csv\")"
   ]
  },
  {
   "cell_type": "code",
   "execution_count": 4,
   "id": "bb3a4548-6e24-4c6e-84ba-db4b47c5db4e",
   "metadata": {},
   "outputs": [
    {
     "name": "stderr",
     "output_type": "stream",
     "text": [
      "2024-07-01 10:04:58.153124: E external/local_xla/xla/stream_executor/cuda/cuda_dnn.cc:9261] Unable to register cuDNN factory: Attempting to register factory for plugin cuDNN when one has already been registered\n",
      "2024-07-01 10:04:58.153170: E external/local_xla/xla/stream_executor/cuda/cuda_fft.cc:607] Unable to register cuFFT factory: Attempting to register factory for plugin cuFFT when one has already been registered\n",
      "2024-07-01 10:04:58.154173: E external/local_xla/xla/stream_executor/cuda/cuda_blas.cc:1515] Unable to register cuBLAS factory: Attempting to register factory for plugin cuBLAS when one has already been registered\n",
      "2024-07-01 10:04:58.161899: I tensorflow/core/platform/cpu_feature_guard.cc:182] This TensorFlow binary is optimized to use available CPU instructions in performance-critical operations.\n",
      "To enable the following instructions: AVX2 FMA, in other operations, rebuild TensorFlow with the appropriate compiler flags.\n",
      "2024-07-01 10:04:58.910522: W tensorflow/compiler/tf2tensorrt/utils/py_utils.cc:38] TF-TRT Warning: Could not find TensorRT\n"
     ]
    }
   ],
   "source": [
    "from tensorflow import keras\n",
    "import tensorflow as tf\n",
    "from transformers import AutoTokenizer, TFBertForSequenceClassification\n",
    "from tensorflow.keras.metrics import Precision, Recall\n",
    "tokenizer = AutoTokenizer.from_pretrained(\"neuralmind/bert-base-portuguese-cased\")\n",
    "import glob\n",
    "import json\n",
    "import os\n",
    "class HEnconde(json.JSONEncoder):\n",
    "    def default(self, obj):\n",
    "        if isinstance(obj, np.ndarray):\n",
    "            return obj.tolist()\n",
    "        json.JSONEncoder.default(self, obj)\n",
    "def train_model(params, callbacks):\n",
    "    #https://github.com/tensorflow/tensorflow/issues/56661\n",
    "    gpus = tf.config.list_physical_devices('GPU')\n",
    "    tf.config.set_logical_device_configuration(\n",
    "        gpus[0],\n",
    "        [tf.config.LogicalDeviceConfiguration(memory_limit=6000)]\n",
    "    )\n",
    "    tf.keras.utils.set_random_seed(5113)\n",
    "    MAX_LEN = params[\"maxlen\"]\n",
    "    train_tensor_input = []\n",
    "    train_tensor_attention_mask = []\n",
    "    train_inputs = [tokenizer.encode_plus(message, max_length=MAX_LEN,truncation=True,pad_to_max_length=True, add_special_tokens=True, return_attention_mask=True) for message in train[\"text\"].values]\n",
    "    for train_input in train_inputs:\n",
    "      train_tensor_input.append(train_input[\"input_ids\"])\n",
    "      train_tensor_attention_mask.append(train_input[\"attention_mask\"])\n",
    "    train_tensor_input = tf.convert_to_tensor(train_tensor_input)\n",
    "    train_tensor_attention_mask = tf.convert_to_tensor(train_tensor_attention_mask)\n",
    "    validate_tensor_input = []\n",
    "    validate_tensor_attention_mask = []\n",
    "    validate_inputs = [tokenizer.encode_plus(message, max_length=MAX_LEN,truncation=True,pad_to_max_length=True, add_special_tokens=True, return_attention_mask=True) for message in validate[\"text\"].values]\n",
    "    for validate_input in validate_inputs:\n",
    "      validate_tensor_input.append(validate_input[\"input_ids\"])\n",
    "      validate_tensor_attention_mask.append(validate_input[\"attention_mask\"])\n",
    "    validate_tensor_input = tf.convert_to_tensor(validate_tensor_input)\n",
    "    validate_tensor_attention_mask = tf.convert_to_tensor(validate_tensor_attention_mask)\n",
    "\n",
    "    model = TFBertForSequenceClassification.from_pretrained(\"neuralmind/bert-base-portuguese-cased\", num_labels=1)\n",
    "    loss = keras.losses.BinaryCrossentropy(from_logits=True)\n",
    "    optimizer = keras.optimizers.Adam(learning_rate=params[\"learning_rate\"], epsilon = params[\"epsilon\"])\n",
    "    model.compile(loss=loss, optimizer=optimizer, metrics=[\"accuracy\",Precision(), Recall()])#, Precision(), Recall()\n",
    "    history = model.fit((train_tensor_input, train_tensor_attention_mask), tf.convert_to_tensor(train[\"misinformation\"].values, dtype=tf.float32), batch_size=params['batch_size'], epochs=params['epochs'], validation_data=([validate_tensor_input, validate_tensor_attention_mask], tf.convert_to_tensor(validate[\"misinformation\"], dtype=tf.float32)), callbacks=callbacks)\n",
    "    best_acc_i = history.history['val_accuracy'].index(max(history.history['val_accuracy']))\n",
    "    metrics = []\n",
    "    for metric_name in model.metrics_names:\n",
    "        metrics.append(history.history[\"val_\" + metric_name][best_acc_i])\n",
    "    for best_m in glob.glob(\"best_bert_*.h5\"):\n",
    "        if float(best_m[:-3].replace(\"best_bert_\", \"\")) < float(history.history['val_accuracy'][best_acc_i]):\n",
    "            model.save_weights(f\"best_bert_{str(history.history['val_accuracy'][best_acc_i])}.h5\")\n",
    "            os.remove(best_m)\n",
    "            with open(f\"best_bert_history.json\", \"w\")as f:\n",
    "                f.write(json.dumps(dict(history.history), indent=4, cls=HEnconde))\n",
    "    return [best_acc_i, zip(model.metrics_names, metrics)]\n"
   ]
  },
  {
   "cell_type": "code",
   "execution_count": 5,
   "id": "32f19058-ed41-4758-a78e-1b84f6f34d59",
   "metadata": {},
   "outputs": [],
   "source": [
    "import itertools\n",
    "import gc\n",
    "from numba import cuda \n",
    "import sys\n",
    "from multiprocessing import Queue, Process\n",
    "from optuna.integration import TFKerasPruningCallback\n",
    "from typing import Optional\n",
    "from typing import Any\n",
    "from typing import Dict\n",
    "import tensorflow\n",
    "class TFKerasPruningCallback(TFKerasPruningCallback):\n",
    "    def on_train_begin(self, logs=None):\n",
    "        # Allow instances to be re-used\n",
    "        self.best_weights = None\n",
    "        self.best_acc = 0\n",
    "    \n",
    "    def on_epoch_end(self, epoch: int, logs: Optional[Dict[str, Any]] = None) -> None:\n",
    "        logs = logs or {}\n",
    "        current_score = logs.get(self._monitor)\n",
    "        if float(self.best_acc) < float(current_score):\n",
    "            self.best_acc = current_score\n",
    "            self.best_weights = self.model.get_weights()\n",
    "        if current_score is None:\n",
    "            message = (\n",
    "                \"The metric '{}' is not in the evaluation logs for pruning. \"\n",
    "                \"Please make sure you set the correct metric name.\".format(self._monitor)\n",
    "            )\n",
    "            warnings.warn(message)\n",
    "            return\n",
    "\n",
    "        # Report current score and epoch to Optuna's trial.\n",
    "        self._trial.report(float(current_score), step=epoch)\n",
    "\n",
    "        # Prune trial if needed\n",
    "        if self._trial.should_prune():\n",
    "            message = \"Trial was pruned at epoch {}.\".format(epoch)\n",
    "            self.model.stop_training = True\n",
    "            #raise optuna.TrialPruned(message)\n",
    "    def on_train_end(self, logs=None):\n",
    "        if self.best_weights is not None:\n",
    "            self.model.set_weights(self.best_weights)\n",
    "    \n",
    "\n",
    "\n",
    "#https://stackoverflow.com/questions/39758094/clearing-tensorflow-gpu-memory-after-model-execution\n",
    "def process_run(func, params, callbacks):\n",
    "    def wrapper_func(queue, params, callbacks):\n",
    "        try:\n",
    "            result = func(params, callbacks)\n",
    "            error = None\n",
    "        except Exception:\n",
    "            result = None\n",
    "            ex_type, ex_value, tb = sys.exc_info()\n",
    "            error = ex_type, ex_value\n",
    "        queue.put((result, error))\n",
    "\n",
    "    def process(params, callbacks):\n",
    "        queue = Queue()\n",
    "        p = Process(target = wrapper_func, args = [queue] + [params] + [callbacks])\n",
    "        p.start()\n",
    "        result, error = queue.get()\n",
    "        p.join()\n",
    "        return result, error  \n",
    "\n",
    "    result, error = process(params, callbacks)\n",
    "    return result, error\n",
    "\n",
    "\n",
    "def objective(trial, study):\n",
    "    # Define hyperparameters\n",
    "    params = {\n",
    "        \"learning_rate\": 1e-4, #trial.suggest_float(\"learning_rate\", 1e-4, 1e-3),\n",
    "        \"epsilon\": 1e-8,#trial.suggest_float(\"epsilon\", 1e-8, 1e-6),\n",
    "        \"maxlen\": trial.suggest_int(\"maxlen\", 96, 160, step=32),\n",
    "        \"epochs\": 20, #trial.suggest_int(\"epochs\", 2, 12, step=2)\n",
    "        \"batch_size\":trial.suggest_int(\"batch_size\", 16, 24, step=8)\n",
    "    }\n",
    "    callbacks = [TFKerasPruningCallback(trial, \"val_accuracy\"), tensorflow.keras.callbacks.EarlyStopping(monitor='val_accuracy', min_delta=0.01, patience=2, verbose=0, mode=\"max\", restore_best_weights=True)]\n",
    "    #TFKerasPruningCallback(trial, \"val_accuracy\")\n",
    "    #tensorflow.keras.callbacks.EarlyStopping(monitor='val_accuracy', min_delta=0.01, patience=3, verbose=0, mode=\"max\"), \n",
    "    with mlflow.start_run(nested=True, run_name=f\"BERT_MODEL_PARA_AUG_lr_{params['learning_rate']}_eps_{params['epsilon']}_maxlen_{params['maxlen']}_epochs_{params['epochs']}_bs_{params['batch_size']}\"):\n",
    "        metrics, error = process_run(train_model, params=params, callbacks=callbacks)\n",
    "        print(error)\n",
    "        #metrics = train_model(params, callbacks)\n",
    "        # Log to MLflow\n",
    "        params[\"epochs\"] = metrics[0] + 1\n",
    "        mlflow.log_params(params)\n",
    "        metrics = list(metrics[1])\n",
    "        metrics = dict(metrics)\n",
    "        partial_f1 = (metrics[\"precision\"] + metrics[\"recall\"])\n",
    "        partial_f1 = partial_f1 if partial_f1 else 1\n",
    "        metrics[\"f1_score\"] =  2 * (metrics[\"precision\"] * metrics[\"recall\"]) / partial_f1\n",
    "        for metric in metrics:\n",
    "            mlflow.log_metric(metric, metrics[metric])\n",
    "        print(dict(metrics))\n",
    "    return metrics[\"accuracy\"]\n",
    "        #best_acc = []\n",
    "        #for i in range(params[\"epochs\"]):\n",
    "        #    best_acc.append(i, trial.intermediate_values[i])\n",
    "        #best_acc = max(best_acc, key = lambda x: x[1])\n",
    "        #params[\"epochs\"] = best_acc[0] + 1\n",
    "        #mlflow.log_params(params)\n",
    "        #if not metrics and best_acc <= best_value:\n",
    "        #    print(params, error)\n",
    "        #    raise optuna.TrialPruned()\n",
    "        #mlflow.log_metric(\"accuracy\", best_acc)\n",
    "    #return best_acc\n",
    "        "
   ]
  },
  {
   "cell_type": "code",
   "execution_count": 7,
   "id": "b3a02639-e2d0-4abf-a1f1-bfbf7fc967d9",
   "metadata": {},
   "outputs": [
    {
     "name": "stderr",
     "output_type": "stream",
     "text": [
      "/tmp/ipykernel_26323/3150942913.py:5: ExperimentalWarning: BruteForceSampler is experimental (supported from v3.1.0). The interface can change in the future.\n",
      "  sampler=optuna.samplers.BruteForceSampler()\n",
      "[I 2024-07-01 16:39:45,926] A new study created in RDB with name: BERT_MODEL_PARA_AUG_V13\n",
      "/home/markt/tcc/jupyter/jupyter-ml/lib/python3.10/site-packages/transformers/tokenization_utils_base.py:2619: FutureWarning: The `pad_to_max_length` argument is deprecated and will be removed in a future version, use `padding=True` or `padding='longest'` to pad to the longest sequence in the batch, or use `padding='max_length'` to pad to a max length. In this case, you can give a specific length with `max_length` (e.g. `max_length=45`) or leave max_length to None to pad to the maximal input size of the model (e.g. 512 for Bert).\n",
      "  warnings.warn(\n",
      "2024-07-01 16:39:46.247631: I external/local_xla/xla/stream_executor/cuda/cuda_executor.cc:887] could not open file to read NUMA node: /sys/bus/pci/devices/0000:01:00.0/numa_node\n",
      "Your kernel may have been built without NUMA support.\n",
      "2024-07-01 16:39:46.249029: I external/local_xla/xla/stream_executor/cuda/cuda_executor.cc:887] could not open file to read NUMA node: /sys/bus/pci/devices/0000:01:00.0/numa_node\n",
      "Your kernel may have been built without NUMA support.\n",
      "2024-07-01 16:39:46.249077: I external/local_xla/xla/stream_executor/cuda/cuda_executor.cc:887] could not open file to read NUMA node: /sys/bus/pci/devices/0000:01:00.0/numa_node\n",
      "Your kernel may have been built without NUMA support.\n",
      "2024-07-01 16:40:20.003060: I external/local_xla/xla/stream_executor/cuda/cuda_executor.cc:887] could not open file to read NUMA node: /sys/bus/pci/devices/0000:01:00.0/numa_node\n",
      "Your kernel may have been built without NUMA support.\n",
      "2024-07-01 16:40:20.003173: I external/local_xla/xla/stream_executor/cuda/cuda_executor.cc:887] could not open file to read NUMA node: /sys/bus/pci/devices/0000:01:00.0/numa_node\n",
      "Your kernel may have been built without NUMA support.\n",
      "2024-07-01 16:40:20.003212: I external/local_xla/xla/stream_executor/cuda/cuda_executor.cc:887] could not open file to read NUMA node: /sys/bus/pci/devices/0000:01:00.0/numa_node\n",
      "Your kernel may have been built without NUMA support.\n",
      "2024-07-01 16:40:20.199168: I external/local_xla/xla/stream_executor/cuda/cuda_executor.cc:887] could not open file to read NUMA node: /sys/bus/pci/devices/0000:01:00.0/numa_node\n",
      "Your kernel may have been built without NUMA support.\n",
      "2024-07-01 16:40:20.199212: I tensorflow/core/common_runtime/gpu/gpu_device.cc:2022] Could not identify NUMA node of platform GPU id 0, defaulting to 0.  Your kernel may not have been built with NUMA support.\n",
      "2024-07-01 16:40:20.199276: I external/local_xla/xla/stream_executor/cuda/cuda_executor.cc:887] could not open file to read NUMA node: /sys/bus/pci/devices/0000:01:00.0/numa_node\n",
      "Your kernel may have been built without NUMA support.\n",
      "2024-07-01 16:40:20.199321: I external/local_xla/xla/stream_executor/cuda/cuda_executor.cc:887] could not open file to read NUMA node: /sys/bus/pci/devices/0000:01:00.0/numa_node\n",
      "Your kernel may have been built without NUMA support.\n",
      "2024-07-01 16:40:20.199349: I tensorflow/core/common_runtime/gpu/gpu_device.cc:1929] Created device /job:localhost/replica:0/task:0/device:GPU:0 with 6000 MB memory:  -> device: 0, name: NVIDIA GeForce GTX 1660 Ti, pci bus id: 0000:01:00.0, compute capability: 7.5\n",
      "All model checkpoint layers were used when initializing TFBertForSequenceClassification.\n",
      "\n",
      "Some layers of TFBertForSequenceClassification were not initialized from the model checkpoint at neuralmind/bert-base-portuguese-cased and are newly initialized: ['classifier', 'bert/pooler/dense/bias:0', 'bert/pooler/dense/kernel:0']\n",
      "You should probably TRAIN this model on a down-stream task to be able to use it for predictions and inference.\n"
     ]
    },
    {
     "name": "stdout",
     "output_type": "stream",
     "text": [
      "Epoch 1/20\n"
     ]
    },
    {
     "name": "stderr",
     "output_type": "stream",
     "text": [
      "2024-07-01 16:40:48.489455: I external/local_xla/xla/service/service.cc:168] XLA service 0x7fcebcacf370 initialized for platform CUDA (this does not guarantee that XLA will be used). Devices:\n",
      "2024-07-01 16:40:48.489500: I external/local_xla/xla/service/service.cc:176]   StreamExecutor device (0): NVIDIA GeForce GTX 1660 Ti, Compute Capability 7.5\n",
      "2024-07-01 16:40:48.496330: I tensorflow/compiler/mlir/tensorflow/utils/dump_mlir_util.cc:269] disabling MLIR crash reproducer, set env var `MLIR_CRASH_REPRODUCER_DIRECTORY` to enable.\n",
      "2024-07-01 16:40:48.515895: I external/local_xla/xla/stream_executor/cuda/cuda_dnn.cc:454] Loaded cuDNN version 8902\n",
      "WARNING: All log messages before absl::InitializeLog() is called are written to STDERR\n",
      "I0000 00:00:1719862848.580600   24909 device_compiler.h:186] Compiled cluster using XLA!  This line is logged at most once for the lifetime of the process.\n"
     ]
    },
    {
     "name": "stdout",
     "output_type": "stream",
     "text": [
      "893/893 [==============================] - 1690s 2s/step - loss: 0.3557 - accuracy: 0.8243 - precision: 0.8739 - recall: 0.7977 - val_loss: 0.4390 - val_accuracy: 0.8029 - val_precision: 0.8391 - val_recall: 0.7494\n",
      "Epoch 2/20\n",
      "893/893 [==============================] - 1619s 2s/step - loss: 0.1988 - accuracy: 0.9171 - precision: 0.9389 - recall: 0.9092 - val_loss: 0.4015 - val_accuracy: 0.8373 - val_precision: 0.8163 - val_recall: 0.8705\n",
      "Epoch 3/20\n",
      "893/893 [==============================] - 1617s 2s/step - loss: 0.1563 - accuracy: 0.9398 - precision: 0.9556 - recall: 0.9346 - val_loss: 0.5050 - val_accuracy: 0.8005 - val_precision: 0.7799 - val_recall: 0.8373\n",
      "Epoch 4/20\n",
      "893/893 [==============================] - 1621s 2s/step - loss: 0.1265 - accuracy: 0.9525 - precision: 0.9652 - recall: 0.9483 - val_loss: 0.5470 - val_accuracy: 0.8011 - val_precision: 0.7483 - val_recall: 0.9074\n"
     ]
    },
    {
     "name": "stderr",
     "output_type": "stream",
     "text": [
      "[I 2024-07-01 18:29:31,565] Trial 0 finished with value: 0.8372921347618103 and parameters: {'maxlen': 160, 'batch_size': 24}. Best is trial 0 with value: 0.8372921347618103.\n"
     ]
    },
    {
     "name": "stdout",
     "output_type": "stream",
     "text": [
      "None\n",
      "{'loss': 0.401524156332016, 'accuracy': 0.8372921347618103, 'precision': 0.8162583708763123, 'recall': 0.8705463409423828, 'f1_score': 0.8425287563535587}\n",
      "Initial trial 0 achieved value: 0.8372921347618103\n"
     ]
    },
    {
     "name": "stderr",
     "output_type": "stream",
     "text": [
      "/home/markt/tcc/jupyter/jupyter-ml/lib/python3.10/site-packages/transformers/tokenization_utils_base.py:2619: FutureWarning: The `pad_to_max_length` argument is deprecated and will be removed in a future version, use `padding=True` or `padding='longest'` to pad to the longest sequence in the batch, or use `padding='max_length'` to pad to a max length. In this case, you can give a specific length with `max_length` (e.g. `max_length=45`) or leave max_length to None to pad to the maximal input size of the model (e.g. 512 for Bert).\n",
      "  warnings.warn(\n",
      "2024-07-01 18:29:31.930242: I external/local_xla/xla/stream_executor/cuda/cuda_executor.cc:887] could not open file to read NUMA node: /sys/bus/pci/devices/0000:01:00.0/numa_node\n",
      "Your kernel may have been built without NUMA support.\n",
      "2024-07-01 18:29:31.931512: I external/local_xla/xla/stream_executor/cuda/cuda_executor.cc:887] could not open file to read NUMA node: /sys/bus/pci/devices/0000:01:00.0/numa_node\n",
      "Your kernel may have been built without NUMA support.\n",
      "2024-07-01 18:29:31.931611: I external/local_xla/xla/stream_executor/cuda/cuda_executor.cc:887] could not open file to read NUMA node: /sys/bus/pci/devices/0000:01:00.0/numa_node\n",
      "Your kernel may have been built without NUMA support.\n",
      "2024-07-01 18:30:02.890743: I external/local_xla/xla/stream_executor/cuda/cuda_executor.cc:887] could not open file to read NUMA node: /sys/bus/pci/devices/0000:01:00.0/numa_node\n",
      "Your kernel may have been built without NUMA support.\n",
      "2024-07-01 18:30:02.890834: I external/local_xla/xla/stream_executor/cuda/cuda_executor.cc:887] could not open file to read NUMA node: /sys/bus/pci/devices/0000:01:00.0/numa_node\n",
      "Your kernel may have been built without NUMA support.\n",
      "2024-07-01 18:30:02.890871: I external/local_xla/xla/stream_executor/cuda/cuda_executor.cc:887] could not open file to read NUMA node: /sys/bus/pci/devices/0000:01:00.0/numa_node\n",
      "Your kernel may have been built without NUMA support.\n",
      "2024-07-01 18:30:03.088749: I external/local_xla/xla/stream_executor/cuda/cuda_executor.cc:887] could not open file to read NUMA node: /sys/bus/pci/devices/0000:01:00.0/numa_node\n",
      "Your kernel may have been built without NUMA support.\n",
      "2024-07-01 18:30:03.088793: I tensorflow/core/common_runtime/gpu/gpu_device.cc:2022] Could not identify NUMA node of platform GPU id 0, defaulting to 0.  Your kernel may not have been built with NUMA support.\n",
      "2024-07-01 18:30:03.088852: I external/local_xla/xla/stream_executor/cuda/cuda_executor.cc:887] could not open file to read NUMA node: /sys/bus/pci/devices/0000:01:00.0/numa_node\n",
      "Your kernel may have been built without NUMA support.\n",
      "2024-07-01 18:30:03.088895: I external/local_xla/xla/stream_executor/cuda/cuda_executor.cc:887] could not open file to read NUMA node: /sys/bus/pci/devices/0000:01:00.0/numa_node\n",
      "Your kernel may have been built without NUMA support.\n",
      "2024-07-01 18:30:03.088922: I tensorflow/core/common_runtime/gpu/gpu_device.cc:1929] Created device /job:localhost/replica:0/task:0/device:GPU:0 with 6000 MB memory:  -> device: 0, name: NVIDIA GeForce GTX 1660 Ti, pci bus id: 0000:01:00.0, compute capability: 7.5\n",
      "All model checkpoint layers were used when initializing TFBertForSequenceClassification.\n",
      "\n",
      "Some layers of TFBertForSequenceClassification were not initialized from the model checkpoint at neuralmind/bert-base-portuguese-cased and are newly initialized: ['classifier', 'bert/pooler/dense/bias:0', 'bert/pooler/dense/kernel:0']\n",
      "You should probably TRAIN this model on a down-stream task to be able to use it for predictions and inference.\n"
     ]
    },
    {
     "name": "stdout",
     "output_type": "stream",
     "text": [
      "Epoch 1/20\n"
     ]
    },
    {
     "name": "stderr",
     "output_type": "stream",
     "text": [
      "2024-07-01 18:30:27.428006: I external/local_xla/xla/service/service.cc:168] XLA service 0x7fceac308430 initialized for platform CUDA (this does not guarantee that XLA will be used). Devices:\n",
      "2024-07-01 18:30:27.428052: I external/local_xla/xla/service/service.cc:176]   StreamExecutor device (0): NVIDIA GeForce GTX 1660 Ti, Compute Capability 7.5\n",
      "2024-07-01 18:30:27.434652: I tensorflow/compiler/mlir/tensorflow/utils/dump_mlir_util.cc:269] disabling MLIR crash reproducer, set env var `MLIR_CRASH_REPRODUCER_DIRECTORY` to enable.\n",
      "2024-07-01 18:30:27.453355: I external/local_xla/xla/stream_executor/cuda/cuda_dnn.cc:454] Loaded cuDNN version 8902\n",
      "WARNING: All log messages before absl::InitializeLog() is called are written to STDERR\n",
      "I0000 00:00:1719869427.512547    7943 device_compiler.h:186] Compiled cluster using XLA!  This line is logged at most once for the lifetime of the process.\n"
     ]
    },
    {
     "name": "stdout",
     "output_type": "stream",
     "text": [
      "893/893 [==============================] - 1139s 1s/step - loss: 0.3712 - accuracy: 0.8183 - precision: 0.8713 - recall: 0.7881 - val_loss: 0.4672 - val_accuracy: 0.8076 - val_precision: 0.7797 - val_recall: 0.8575\n",
      "Epoch 2/20\n",
      "893/893 [==============================] - 1051s 1s/step - loss: 0.2063 - accuracy: 0.9167 - precision: 0.9390 - recall: 0.9084 - val_loss: 0.4153 - val_accuracy: 0.8195 - val_precision: 0.7880 - val_recall: 0.8741\n",
      "Epoch 3/20\n",
      "893/893 [==============================] - 1013s 1s/step - loss: 0.1260 - accuracy: 0.9530 - precision: 0.9643 - recall: 0.9503 - val_loss: 0.6179 - val_accuracy: 0.7993 - val_precision: 0.8663 - val_recall: 0.7078\n",
      "Epoch 4/20\n",
      "893/893 [==============================] - 1044s 1s/step - loss: 0.1736 - accuracy: 0.9342 - precision: 0.9484 - recall: 0.9318 - val_loss: 0.6317 - val_accuracy: 0.7838 - val_precision: 0.7371 - val_recall: 0.8824\n"
     ]
    },
    {
     "name": "stderr",
     "output_type": "stream",
     "text": [
      "[I 2024-07-01 19:40:53,494] Trial 1 finished with value: 0.8194774389266968 and parameters: {'maxlen': 128, 'batch_size': 24}. Best is trial 0 with value: 0.8372921347618103.\n"
     ]
    },
    {
     "name": "stdout",
     "output_type": "stream",
     "text": [
      "None\n",
      "{'loss': 0.4153331220149994, 'accuracy': 0.8194774389266968, 'precision': 0.7880085706710815, 'recall': 0.8741092681884766, 'f1_score': 0.8288288338306532}\n"
     ]
    },
    {
     "name": "stderr",
     "output_type": "stream",
     "text": [
      "/home/markt/tcc/jupyter/jupyter-ml/lib/python3.10/site-packages/transformers/tokenization_utils_base.py:2619: FutureWarning: The `pad_to_max_length` argument is deprecated and will be removed in a future version, use `padding=True` or `padding='longest'` to pad to the longest sequence in the batch, or use `padding='max_length'` to pad to a max length. In this case, you can give a specific length with `max_length` (e.g. `max_length=45`) or leave max_length to None to pad to the maximal input size of the model (e.g. 512 for Bert).\n",
      "  warnings.warn(\n",
      "2024-07-01 19:40:53.787800: I external/local_xla/xla/stream_executor/cuda/cuda_executor.cc:887] could not open file to read NUMA node: /sys/bus/pci/devices/0000:01:00.0/numa_node\n",
      "Your kernel may have been built without NUMA support.\n",
      "2024-07-01 19:40:53.789092: I external/local_xla/xla/stream_executor/cuda/cuda_executor.cc:887] could not open file to read NUMA node: /sys/bus/pci/devices/0000:01:00.0/numa_node\n",
      "Your kernel may have been built without NUMA support.\n",
      "2024-07-01 19:40:53.789161: I external/local_xla/xla/stream_executor/cuda/cuda_executor.cc:887] could not open file to read NUMA node: /sys/bus/pci/devices/0000:01:00.0/numa_node\n",
      "Your kernel may have been built without NUMA support.\n",
      "2024-07-01 19:41:23.543953: I external/local_xla/xla/stream_executor/cuda/cuda_executor.cc:887] could not open file to read NUMA node: /sys/bus/pci/devices/0000:01:00.0/numa_node\n",
      "Your kernel may have been built without NUMA support.\n",
      "2024-07-01 19:41:23.544087: I external/local_xla/xla/stream_executor/cuda/cuda_executor.cc:887] could not open file to read NUMA node: /sys/bus/pci/devices/0000:01:00.0/numa_node\n",
      "Your kernel may have been built without NUMA support.\n",
      "2024-07-01 19:41:23.544138: I external/local_xla/xla/stream_executor/cuda/cuda_executor.cc:887] could not open file to read NUMA node: /sys/bus/pci/devices/0000:01:00.0/numa_node\n",
      "Your kernel may have been built without NUMA support.\n",
      "2024-07-01 19:41:23.765986: I external/local_xla/xla/stream_executor/cuda/cuda_executor.cc:887] could not open file to read NUMA node: /sys/bus/pci/devices/0000:01:00.0/numa_node\n",
      "Your kernel may have been built without NUMA support.\n",
      "2024-07-01 19:41:23.766035: I tensorflow/core/common_runtime/gpu/gpu_device.cc:2022] Could not identify NUMA node of platform GPU id 0, defaulting to 0.  Your kernel may not have been built with NUMA support.\n",
      "2024-07-01 19:41:23.766136: I external/local_xla/xla/stream_executor/cuda/cuda_executor.cc:887] could not open file to read NUMA node: /sys/bus/pci/devices/0000:01:00.0/numa_node\n",
      "Your kernel may have been built without NUMA support.\n",
      "2024-07-01 19:41:23.766192: I external/local_xla/xla/stream_executor/cuda/cuda_executor.cc:887] could not open file to read NUMA node: /sys/bus/pci/devices/0000:01:00.0/numa_node\n",
      "Your kernel may have been built without NUMA support.\n",
      "2024-07-01 19:41:23.766228: I tensorflow/core/common_runtime/gpu/gpu_device.cc:1929] Created device /job:localhost/replica:0/task:0/device:GPU:0 with 6000 MB memory:  -> device: 0, name: NVIDIA GeForce GTX 1660 Ti, pci bus id: 0000:01:00.0, compute capability: 7.5\n",
      "All model checkpoint layers were used when initializing TFBertForSequenceClassification.\n",
      "\n",
      "Some layers of TFBertForSequenceClassification were not initialized from the model checkpoint at neuralmind/bert-base-portuguese-cased and are newly initialized: ['classifier', 'bert/pooler/dense/bias:0', 'bert/pooler/dense/kernel:0']\n",
      "You should probably TRAIN this model on a down-stream task to be able to use it for predictions and inference.\n"
     ]
    },
    {
     "name": "stdout",
     "output_type": "stream",
     "text": [
      "Epoch 1/20\n"
     ]
    },
    {
     "name": "stderr",
     "output_type": "stream",
     "text": [
      "2024-07-01 19:41:48.177451: I external/local_xla/xla/service/service.cc:168] XLA service 0x7fcebf84f830 initialized for platform CUDA (this does not guarantee that XLA will be used). Devices:\n",
      "2024-07-01 19:41:48.177554: I external/local_xla/xla/service/service.cc:176]   StreamExecutor device (0): NVIDIA GeForce GTX 1660 Ti, Compute Capability 7.5\n",
      "2024-07-01 19:41:48.184154: I tensorflow/compiler/mlir/tensorflow/utils/dump_mlir_util.cc:269] disabling MLIR crash reproducer, set env var `MLIR_CRASH_REPRODUCER_DIRECTORY` to enable.\n",
      "2024-07-01 19:41:48.202077: I external/local_xla/xla/stream_executor/cuda/cuda_dnn.cc:454] Loaded cuDNN version 8902\n",
      "WARNING: All log messages before absl::InitializeLog() is called are written to STDERR\n",
      "I0000 00:00:1719873708.260565   29441 device_compiler.h:186] Compiled cluster using XLA!  This line is logged at most once for the lifetime of the process.\n"
     ]
    },
    {
     "name": "stdout",
     "output_type": "stream",
     "text": [
      "1339/1339 [==============================] - 1716s 1s/step - loss: 0.3862 - accuracy: 0.8102 - precision: 0.8635 - recall: 0.7803 - val_loss: 0.4167 - val_accuracy: 0.8034 - val_precision: 0.8135 - val_recall: 0.7874\n",
      "Epoch 2/20\n",
      "1339/1339 [==============================] - 1694s 1s/step - loss: 0.3437 - accuracy: 0.7992 - precision: 0.9072 - recall: 0.7097 - val_loss: 0.6984 - val_accuracy: 0.5000 - val_precision: 0.0000e+00 - val_recall: 0.0000e+00\n",
      "Epoch 3/20\n",
      "1339/1339 [==============================] - 1720s 1s/step - loss: 0.6889 - accuracy: 0.4518 - precision: 0.5804 - recall: 0.0335 - val_loss: 0.6943 - val_accuracy: 0.5000 - val_precision: 0.0000e+00 - val_recall: 0.0000e+00\n"
     ]
    },
    {
     "name": "stderr",
     "output_type": "stream",
     "text": [
      "[I 2024-07-01 21:06:58,672] Trial 2 finished with value: 0.8034442067146301 and parameters: {'maxlen': 160, 'batch_size': 16}. Best is trial 0 with value: 0.8372921347618103.\n"
     ]
    },
    {
     "name": "stdout",
     "output_type": "stream",
     "text": [
      "None\n",
      "{'loss': 0.4166751503944397, 'accuracy': 0.8034442067146301, 'precision': 0.8134969472885132, 'recall': 0.7874109148979187, 'f1_score': 0.8002414013462029}\n"
     ]
    },
    {
     "name": "stderr",
     "output_type": "stream",
     "text": [
      "/home/markt/tcc/jupyter/jupyter-ml/lib/python3.10/site-packages/transformers/tokenization_utils_base.py:2619: FutureWarning: The `pad_to_max_length` argument is deprecated and will be removed in a future version, use `padding=True` or `padding='longest'` to pad to the longest sequence in the batch, or use `padding='max_length'` to pad to a max length. In this case, you can give a specific length with `max_length` (e.g. `max_length=45`) or leave max_length to None to pad to the maximal input size of the model (e.g. 512 for Bert).\n",
      "  warnings.warn(\n",
      "2024-07-01 21:06:58.957022: I external/local_xla/xla/stream_executor/cuda/cuda_executor.cc:887] could not open file to read NUMA node: /sys/bus/pci/devices/0000:01:00.0/numa_node\n",
      "Your kernel may have been built without NUMA support.\n",
      "2024-07-01 21:06:58.958371: I external/local_xla/xla/stream_executor/cuda/cuda_executor.cc:887] could not open file to read NUMA node: /sys/bus/pci/devices/0000:01:00.0/numa_node\n",
      "Your kernel may have been built without NUMA support.\n",
      "2024-07-01 21:06:58.958420: I external/local_xla/xla/stream_executor/cuda/cuda_executor.cc:887] could not open file to read NUMA node: /sys/bus/pci/devices/0000:01:00.0/numa_node\n",
      "Your kernel may have been built without NUMA support.\n",
      "2024-07-01 21:07:32.755356: I external/local_xla/xla/stream_executor/cuda/cuda_executor.cc:887] could not open file to read NUMA node: /sys/bus/pci/devices/0000:01:00.0/numa_node\n",
      "Your kernel may have been built without NUMA support.\n",
      "2024-07-01 21:07:32.755451: I external/local_xla/xla/stream_executor/cuda/cuda_executor.cc:887] could not open file to read NUMA node: /sys/bus/pci/devices/0000:01:00.0/numa_node\n",
      "Your kernel may have been built without NUMA support.\n",
      "2024-07-01 21:07:32.755489: I external/local_xla/xla/stream_executor/cuda/cuda_executor.cc:887] could not open file to read NUMA node: /sys/bus/pci/devices/0000:01:00.0/numa_node\n",
      "Your kernel may have been built without NUMA support.\n",
      "2024-07-01 21:07:32.956945: I external/local_xla/xla/stream_executor/cuda/cuda_executor.cc:887] could not open file to read NUMA node: /sys/bus/pci/devices/0000:01:00.0/numa_node\n",
      "Your kernel may have been built without NUMA support.\n",
      "2024-07-01 21:07:32.956988: I tensorflow/core/common_runtime/gpu/gpu_device.cc:2022] Could not identify NUMA node of platform GPU id 0, defaulting to 0.  Your kernel may not have been built with NUMA support.\n",
      "2024-07-01 21:07:32.957064: I external/local_xla/xla/stream_executor/cuda/cuda_executor.cc:887] could not open file to read NUMA node: /sys/bus/pci/devices/0000:01:00.0/numa_node\n",
      "Your kernel may have been built without NUMA support.\n",
      "2024-07-01 21:07:32.957108: I external/local_xla/xla/stream_executor/cuda/cuda_executor.cc:887] could not open file to read NUMA node: /sys/bus/pci/devices/0000:01:00.0/numa_node\n",
      "Your kernel may have been built without NUMA support.\n",
      "2024-07-01 21:07:32.957135: I tensorflow/core/common_runtime/gpu/gpu_device.cc:1929] Created device /job:localhost/replica:0/task:0/device:GPU:0 with 6000 MB memory:  -> device: 0, name: NVIDIA GeForce GTX 1660 Ti, pci bus id: 0000:01:00.0, compute capability: 7.5\n",
      "All model checkpoint layers were used when initializing TFBertForSequenceClassification.\n",
      "\n",
      "Some layers of TFBertForSequenceClassification were not initialized from the model checkpoint at neuralmind/bert-base-portuguese-cased and are newly initialized: ['classifier', 'bert/pooler/dense/bias:0', 'bert/pooler/dense/kernel:0']\n",
      "You should probably TRAIN this model on a down-stream task to be able to use it for predictions and inference.\n"
     ]
    },
    {
     "name": "stdout",
     "output_type": "stream",
     "text": [
      "Epoch 1/20\n"
     ]
    },
    {
     "name": "stderr",
     "output_type": "stream",
     "text": [
      "2024-07-01 21:07:57.486203: I external/local_xla/xla/service/service.cc:168] XLA service 0x7fceb2a1fd10 initialized for platform CUDA (this does not guarantee that XLA will be used). Devices:\n",
      "2024-07-01 21:07:57.486260: I external/local_xla/xla/service/service.cc:176]   StreamExecutor device (0): NVIDIA GeForce GTX 1660 Ti, Compute Capability 7.5\n",
      "2024-07-01 21:07:57.495304: I tensorflow/compiler/mlir/tensorflow/utils/dump_mlir_util.cc:269] disabling MLIR crash reproducer, set env var `MLIR_CRASH_REPRODUCER_DIRECTORY` to enable.\n",
      "2024-07-01 21:07:57.516361: I external/local_xla/xla/stream_executor/cuda/cuda_dnn.cc:454] Loaded cuDNN version 8902\n",
      "WARNING: All log messages before absl::InitializeLog() is called are written to STDERR\n",
      "I0000 00:00:1719878877.596421   13230 device_compiler.h:186] Compiled cluster using XLA!  This line is logged at most once for the lifetime of the process.\n"
     ]
    },
    {
     "name": "stdout",
     "output_type": "stream",
     "text": [
      "893/893 [==============================] - 1100s 1s/step - loss: 0.3718 - accuracy: 0.8174 - precision: 0.8683 - recall: 0.7899 - val_loss: 0.4128 - val_accuracy: 0.8124 - val_precision: 0.8497 - val_recall: 0.7589\n",
      "Epoch 2/20\n",
      "893/893 [==============================] - 1466s 2s/step - loss: 0.1992 - accuracy: 0.9197 - precision: 0.9392 - recall: 0.9140 - val_loss: 0.6396 - val_accuracy: 0.8040 - val_precision: 0.7452 - val_recall: 0.9240\n",
      "Epoch 3/20\n",
      "893/893 [==============================] - 1465s 2s/step - loss: 0.1320 - accuracy: 0.9493 - precision: 0.9639 - recall: 0.9437 - val_loss: 0.6781 - val_accuracy: 0.7916 - val_precision: 0.8760 - val_recall: 0.6793\n"
     ]
    },
    {
     "name": "stderr",
     "output_type": "stream",
     "text": [
      "[I 2024-07-01 22:14:47,773] Trial 3 finished with value: 0.8123515248298645 and parameters: {'maxlen': 96, 'batch_size': 24}. Best is trial 0 with value: 0.8372921347618103.\n"
     ]
    },
    {
     "name": "stdout",
     "output_type": "stream",
     "text": [
      "None\n",
      "{'loss': 0.41277235746383667, 'accuracy': 0.8123515248298645, 'precision': 0.8497340679168701, 'recall': 0.7589073777198792, 'f1_score': 0.8017566064720888}\n"
     ]
    },
    {
     "name": "stderr",
     "output_type": "stream",
     "text": [
      "/home/markt/tcc/jupyter/jupyter-ml/lib/python3.10/site-packages/transformers/tokenization_utils_base.py:2619: FutureWarning: The `pad_to_max_length` argument is deprecated and will be removed in a future version, use `padding=True` or `padding='longest'` to pad to the longest sequence in the batch, or use `padding='max_length'` to pad to a max length. In this case, you can give a specific length with `max_length` (e.g. `max_length=45`) or leave max_length to None to pad to the maximal input size of the model (e.g. 512 for Bert).\n",
      "  warnings.warn(\n",
      "2024-07-01 22:14:48.074249: I external/local_xla/xla/stream_executor/cuda/cuda_executor.cc:887] could not open file to read NUMA node: /sys/bus/pci/devices/0000:01:00.0/numa_node\n",
      "Your kernel may have been built without NUMA support.\n",
      "2024-07-01 22:14:48.075566: I external/local_xla/xla/stream_executor/cuda/cuda_executor.cc:887] could not open file to read NUMA node: /sys/bus/pci/devices/0000:01:00.0/numa_node\n",
      "Your kernel may have been built without NUMA support.\n",
      "2024-07-01 22:14:48.075615: I external/local_xla/xla/stream_executor/cuda/cuda_executor.cc:887] could not open file to read NUMA node: /sys/bus/pci/devices/0000:01:00.0/numa_node\n",
      "Your kernel may have been built without NUMA support.\n",
      "2024-07-01 22:15:21.024673: I external/local_xla/xla/stream_executor/cuda/cuda_executor.cc:887] could not open file to read NUMA node: /sys/bus/pci/devices/0000:01:00.0/numa_node\n",
      "Your kernel may have been built without NUMA support.\n",
      "2024-07-01 22:15:21.024764: I external/local_xla/xla/stream_executor/cuda/cuda_executor.cc:887] could not open file to read NUMA node: /sys/bus/pci/devices/0000:01:00.0/numa_node\n",
      "Your kernel may have been built without NUMA support.\n",
      "2024-07-01 22:15:21.024799: I external/local_xla/xla/stream_executor/cuda/cuda_executor.cc:887] could not open file to read NUMA node: /sys/bus/pci/devices/0000:01:00.0/numa_node\n",
      "Your kernel may have been built without NUMA support.\n",
      "2024-07-01 22:15:21.243808: I external/local_xla/xla/stream_executor/cuda/cuda_executor.cc:887] could not open file to read NUMA node: /sys/bus/pci/devices/0000:01:00.0/numa_node\n",
      "Your kernel may have been built without NUMA support.\n",
      "2024-07-01 22:15:21.243854: I tensorflow/core/common_runtime/gpu/gpu_device.cc:2022] Could not identify NUMA node of platform GPU id 0, defaulting to 0.  Your kernel may not have been built with NUMA support.\n",
      "2024-07-01 22:15:21.243926: I external/local_xla/xla/stream_executor/cuda/cuda_executor.cc:887] could not open file to read NUMA node: /sys/bus/pci/devices/0000:01:00.0/numa_node\n",
      "Your kernel may have been built without NUMA support.\n",
      "2024-07-01 22:15:21.243969: I external/local_xla/xla/stream_executor/cuda/cuda_executor.cc:887] could not open file to read NUMA node: /sys/bus/pci/devices/0000:01:00.0/numa_node\n",
      "Your kernel may have been built without NUMA support.\n",
      "2024-07-01 22:15:21.243996: I tensorflow/core/common_runtime/gpu/gpu_device.cc:1929] Created device /job:localhost/replica:0/task:0/device:GPU:0 with 6000 MB memory:  -> device: 0, name: NVIDIA GeForce GTX 1660 Ti, pci bus id: 0000:01:00.0, compute capability: 7.5\n",
      "All model checkpoint layers were used when initializing TFBertForSequenceClassification.\n",
      "\n",
      "Some layers of TFBertForSequenceClassification were not initialized from the model checkpoint at neuralmind/bert-base-portuguese-cased and are newly initialized: ['classifier', 'bert/pooler/dense/bias:0', 'bert/pooler/dense/kernel:0']\n",
      "You should probably TRAIN this model on a down-stream task to be able to use it for predictions and inference.\n"
     ]
    },
    {
     "name": "stdout",
     "output_type": "stream",
     "text": [
      "Epoch 1/20\n"
     ]
    },
    {
     "name": "stderr",
     "output_type": "stream",
     "text": [
      "2024-07-01 22:15:45.571387: I external/local_xla/xla/service/service.cc:168] XLA service 0x7fcecde74560 initialized for platform CUDA (this does not guarantee that XLA will be used). Devices:\n",
      "2024-07-01 22:15:45.571433: I external/local_xla/xla/service/service.cc:176]   StreamExecutor device (0): NVIDIA GeForce GTX 1660 Ti, Compute Capability 7.5\n",
      "2024-07-01 22:15:45.577885: I tensorflow/compiler/mlir/tensorflow/utils/dump_mlir_util.cc:269] disabling MLIR crash reproducer, set env var `MLIR_CRASH_REPRODUCER_DIRECTORY` to enable.\n",
      "2024-07-01 22:15:45.596111: I external/local_xla/xla/stream_executor/cuda/cuda_dnn.cc:454] Loaded cuDNN version 8902\n",
      "WARNING: All log messages before absl::InitializeLog() is called are written to STDERR\n",
      "I0000 00:00:1719882945.654517   24978 device_compiler.h:186] Compiled cluster using XLA!  This line is logged at most once for the lifetime of the process.\n"
     ]
    },
    {
     "name": "stdout",
     "output_type": "stream",
     "text": [
      "1339/1339 [==============================] - 624s 441ms/step - loss: 0.4061 - accuracy: 0.7967 - precision: 0.8509 - recall: 0.7670 - val_loss: 0.4826 - val_accuracy: 0.7833 - val_precision: 0.8008 - val_recall: 0.7542\n",
      "Epoch 2/20\n",
      "1339/1339 [==============================] - 591s 441ms/step - loss: 0.2426 - accuracy: 0.8972 - precision: 0.9271 - recall: 0.8837 - val_loss: 0.5838 - val_accuracy: 0.7797 - val_precision: 0.7105 - val_recall: 0.9442\n",
      "Epoch 3/20\n",
      "1339/1339 [==============================] - 591s 442ms/step - loss: 0.4386 - accuracy: 0.6892 - precision: 0.8752 - recall: 0.5112 - val_loss: 0.6976 - val_accuracy: 0.5000 - val_precision: 0.0000e+00 - val_recall: 0.0000e+00\n"
     ]
    },
    {
     "name": "stderr",
     "output_type": "stream",
     "text": [
      "[I 2024-07-01 22:45:31,135] Trial 4 finished with value: 0.7832541465759277 and parameters: {'maxlen': 96, 'batch_size': 16}. Best is trial 0 with value: 0.8372921347618103.\n"
     ]
    },
    {
     "name": "stdout",
     "output_type": "stream",
     "text": [
      "None\n",
      "{'loss': 0.4826309382915497, 'accuracy': 0.7832541465759277, 'precision': 0.8007566332817078, 'recall': 0.754156768321991, 'f1_score': 0.7767584151571234}\n"
     ]
    },
    {
     "name": "stderr",
     "output_type": "stream",
     "text": [
      "/home/markt/tcc/jupyter/jupyter-ml/lib/python3.10/site-packages/transformers/tokenization_utils_base.py:2619: FutureWarning: The `pad_to_max_length` argument is deprecated and will be removed in a future version, use `padding=True` or `padding='longest'` to pad to the longest sequence in the batch, or use `padding='max_length'` to pad to a max length. In this case, you can give a specific length with `max_length` (e.g. `max_length=45`) or leave max_length to None to pad to the maximal input size of the model (e.g. 512 for Bert).\n",
      "  warnings.warn(\n",
      "2024-07-01 22:45:31.440999: I external/local_xla/xla/stream_executor/cuda/cuda_executor.cc:887] could not open file to read NUMA node: /sys/bus/pci/devices/0000:01:00.0/numa_node\n",
      "Your kernel may have been built without NUMA support.\n",
      "2024-07-01 22:45:31.442275: I external/local_xla/xla/stream_executor/cuda/cuda_executor.cc:887] could not open file to read NUMA node: /sys/bus/pci/devices/0000:01:00.0/numa_node\n",
      "Your kernel may have been built without NUMA support.\n",
      "2024-07-01 22:45:31.442345: I external/local_xla/xla/stream_executor/cuda/cuda_executor.cc:887] could not open file to read NUMA node: /sys/bus/pci/devices/0000:01:00.0/numa_node\n",
      "Your kernel may have been built without NUMA support.\n",
      "2024-07-01 22:46:02.637773: I external/local_xla/xla/stream_executor/cuda/cuda_executor.cc:887] could not open file to read NUMA node: /sys/bus/pci/devices/0000:01:00.0/numa_node\n",
      "Your kernel may have been built without NUMA support.\n",
      "2024-07-01 22:46:02.637882: I external/local_xla/xla/stream_executor/cuda/cuda_executor.cc:887] could not open file to read NUMA node: /sys/bus/pci/devices/0000:01:00.0/numa_node\n",
      "Your kernel may have been built without NUMA support.\n",
      "2024-07-01 22:46:02.637920: I external/local_xla/xla/stream_executor/cuda/cuda_executor.cc:887] could not open file to read NUMA node: /sys/bus/pci/devices/0000:01:00.0/numa_node\n",
      "Your kernel may have been built without NUMA support.\n",
      "2024-07-01 22:46:02.862404: I external/local_xla/xla/stream_executor/cuda/cuda_executor.cc:887] could not open file to read NUMA node: /sys/bus/pci/devices/0000:01:00.0/numa_node\n",
      "Your kernel may have been built without NUMA support.\n",
      "2024-07-01 22:46:02.862450: I tensorflow/core/common_runtime/gpu/gpu_device.cc:2022] Could not identify NUMA node of platform GPU id 0, defaulting to 0.  Your kernel may not have been built with NUMA support.\n",
      "2024-07-01 22:46:02.862523: I external/local_xla/xla/stream_executor/cuda/cuda_executor.cc:887] could not open file to read NUMA node: /sys/bus/pci/devices/0000:01:00.0/numa_node\n",
      "Your kernel may have been built without NUMA support.\n",
      "2024-07-01 22:46:02.862565: I external/local_xla/xla/stream_executor/cuda/cuda_executor.cc:887] could not open file to read NUMA node: /sys/bus/pci/devices/0000:01:00.0/numa_node\n",
      "Your kernel may have been built without NUMA support.\n",
      "2024-07-01 22:46:02.862591: I tensorflow/core/common_runtime/gpu/gpu_device.cc:1929] Created device /job:localhost/replica:0/task:0/device:GPU:0 with 6000 MB memory:  -> device: 0, name: NVIDIA GeForce GTX 1660 Ti, pci bus id: 0000:01:00.0, compute capability: 7.5\n",
      "All model checkpoint layers were used when initializing TFBertForSequenceClassification.\n",
      "\n",
      "Some layers of TFBertForSequenceClassification were not initialized from the model checkpoint at neuralmind/bert-base-portuguese-cased and are newly initialized: ['classifier', 'bert/pooler/dense/bias:0', 'bert/pooler/dense/kernel:0']\n",
      "You should probably TRAIN this model on a down-stream task to be able to use it for predictions and inference.\n"
     ]
    },
    {
     "name": "stdout",
     "output_type": "stream",
     "text": [
      "Epoch 1/20\n"
     ]
    },
    {
     "name": "stderr",
     "output_type": "stream",
     "text": [
      "2024-07-01 22:46:27.766057: I external/local_xla/xla/service/service.cc:168] XLA service 0x7fcec2789c50 initialized for platform CUDA (this does not guarantee that XLA will be used). Devices:\n",
      "2024-07-01 22:46:27.766102: I external/local_xla/xla/service/service.cc:176]   StreamExecutor device (0): NVIDIA GeForce GTX 1660 Ti, Compute Capability 7.5\n",
      "2024-07-01 22:46:27.772326: I tensorflow/compiler/mlir/tensorflow/utils/dump_mlir_util.cc:269] disabling MLIR crash reproducer, set env var `MLIR_CRASH_REPRODUCER_DIRECTORY` to enable.\n",
      "2024-07-01 22:46:27.790171: I external/local_xla/xla/stream_executor/cuda/cuda_dnn.cc:454] Loaded cuDNN version 8902\n",
      "WARNING: All log messages before absl::InitializeLog() is called are written to STDERR\n",
      "I0000 00:00:1719884787.847984    6642 device_compiler.h:186] Compiled cluster using XLA!  This line is logged at most once for the lifetime of the process.\n"
     ]
    },
    {
     "name": "stdout",
     "output_type": "stream",
     "text": [
      "1339/1339 [==============================] - 838s 601ms/step - loss: 0.3966 - accuracy: 0.8068 - precision: 0.8563 - recall: 0.7821 - val_loss: 0.4687 - val_accuracy: 0.7951 - val_precision: 0.8042 - val_recall: 0.7803\n",
      "Epoch 2/20\n",
      "1339/1339 [==============================] - 804s 600ms/step - loss: 0.2364 - accuracy: 0.9022 - precision: 0.9272 - recall: 0.8935 - val_loss: 0.5017 - val_accuracy: 0.8070 - val_precision: 0.7603 - val_recall: 0.8967\n",
      "Epoch 3/20\n",
      "1339/1339 [==============================] - 803s 600ms/step - loss: 0.1634 - accuracy: 0.9372 - precision: 0.9543 - recall: 0.9312 - val_loss: 0.6822 - val_accuracy: 0.7815 - val_precision: 0.7342 - val_recall: 0.8824\n",
      "Epoch 4/20\n",
      "1339/1339 [==============================] - 802s 599ms/step - loss: 0.6458 - accuracy: 0.5003 - precision: 0.8115 - recall: 0.1264 - val_loss: 0.6932 - val_accuracy: 0.5000 - val_precision: 0.0000e+00 - val_recall: 0.0000e+00\n"
     ]
    },
    {
     "name": "stderr",
     "output_type": "stream",
     "text": [
      "[I 2024-07-01 23:40:13,071] Trial 5 finished with value: 0.8070071339607239 and parameters: {'maxlen': 128, 'batch_size': 16}. Best is trial 0 with value: 0.8372921347618103.\n"
     ]
    },
    {
     "name": "stdout",
     "output_type": "stream",
     "text": [
      "None\n",
      "{'loss': 0.5016971826553345, 'accuracy': 0.8070071339607239, 'precision': 0.7603222727775574, 'recall': 0.8966745734214783, 'f1_score': 0.8228882887369998}\n"
     ]
    }
   ],
   "source": [
    "with mlflow.start_run(experiment_id=experiment_id, run_name=\"BERT_MODEL_PARA_AUG\"):\n",
    "    # Initialize the Optuna study\n",
    "    pruner = optuna.pruners.HyperbandPruner(min_resource=2, max_resource=20, reduction_factor=3)\n",
    "    #sampler=optuna.samplers.TPESampler(multivariate=True)\n",
    "    sampler=optuna.samplers.BruteForceSampler()\n",
    "    study_name = \"BERT_MODEL_PARA_AUG_V13\"  # Unique identifier of the study.\n",
    "    storage_name = \"sqlite:///{}.db\".format(study_name)\n",
    "    study = optuna.create_study(\n",
    "        direction=\"maximize\",\n",
    "        pruner=pruner,\n",
    "        sampler=sampler,\n",
    "        study_name=study_name,\n",
    "        storage=storage_name,\n",
    "        load_if_exists=True\n",
    "    )\n",
    "\n",
    "    # Execute the hyperparameter optimization trials.\n",
    "    # Note the addition of the `champion_callback` inclusion to control our logging\n",
    "    complete_trials = 0\n",
    "    #while complete_trials < 9:\n",
    "    study.optimize(lambda x: objective(x, study), n_trials=6, callbacks=[champion_callback])\n",
    "        #complete_trials = len([t for t in study.trials if t.state == optuna.trial.TrialState.COMPLETE])\n",
    "    mlflow.log_params(study.best_params)\n",
    "    mlflow.log_metric(\"best_accuracy\", study.best_value)\n",
    "\n",
    "    # Log tags\n",
    "    mlflow.set_tags(\n",
    "        tags={\n",
    "            \"project\": \"FAKE_NEWS\",\n",
    "            \"optimizer_engine\": \"optuna\",\n",
    "            \"model_family\": \"BERT\",\n",
    "            \"feature_set_version\": 1,\n",
    "        }\n",
    "    )"
   ]
  },
  {
   "cell_type": "code",
   "execution_count": 4,
   "id": "c8f7a327-5b9b-4f9f-a626-7fcba59369ca",
   "metadata": {
    "editable": true,
    "slideshow": {
     "slide_type": ""
    },
    "tags": []
   },
   "outputs": [
    {
     "name": "stderr",
     "output_type": "stream",
     "text": [
      "2024-07-01 07:31:51.648515: I external/local_xla/xla/stream_executor/cuda/cuda_executor.cc:887] could not open file to read NUMA node: /sys/bus/pci/devices/0000:01:00.0/numa_node\n",
      "Your kernel may have been built without NUMA support.\n",
      "2024-07-01 07:31:51.649549: I external/local_xla/xla/stream_executor/cuda/cuda_executor.cc:887] could not open file to read NUMA node: /sys/bus/pci/devices/0000:01:00.0/numa_node\n",
      "Your kernel may have been built without NUMA support.\n",
      "2024-07-01 07:31:51.649613: I external/local_xla/xla/stream_executor/cuda/cuda_executor.cc:887] could not open file to read NUMA node: /sys/bus/pci/devices/0000:01:00.0/numa_node\n",
      "Your kernel may have been built without NUMA support.\n",
      "/home/markt/tcc/jupyter/jupyter-ml/lib/python3.10/site-packages/transformers/tokenization_utils_base.py:2619: FutureWarning: The `pad_to_max_length` argument is deprecated and will be removed in a future version, use `padding=True` or `padding='longest'` to pad to the longest sequence in the batch, or use `padding='max_length'` to pad to a max length. In this case, you can give a specific length with `max_length` (e.g. `max_length=45`) or leave max_length to None to pad to the maximal input size of the model (e.g. 512 for Bert).\n",
      "  warnings.warn(\n",
      "2024-07-01 07:32:22.061417: I external/local_xla/xla/stream_executor/cuda/cuda_executor.cc:887] could not open file to read NUMA node: /sys/bus/pci/devices/0000:01:00.0/numa_node\n",
      "Your kernel may have been built without NUMA support.\n",
      "2024-07-01 07:32:22.061523: I external/local_xla/xla/stream_executor/cuda/cuda_executor.cc:887] could not open file to read NUMA node: /sys/bus/pci/devices/0000:01:00.0/numa_node\n",
      "Your kernel may have been built without NUMA support.\n",
      "2024-07-01 07:32:22.061560: I external/local_xla/xla/stream_executor/cuda/cuda_executor.cc:887] could not open file to read NUMA node: /sys/bus/pci/devices/0000:01:00.0/numa_node\n",
      "Your kernel may have been built without NUMA support.\n",
      "2024-07-01 07:32:22.264484: I external/local_xla/xla/stream_executor/cuda/cuda_executor.cc:887] could not open file to read NUMA node: /sys/bus/pci/devices/0000:01:00.0/numa_node\n",
      "Your kernel may have been built without NUMA support.\n",
      "2024-07-01 07:32:22.264508: I tensorflow/core/common_runtime/gpu/gpu_device.cc:2022] Could not identify NUMA node of platform GPU id 0, defaulting to 0.  Your kernel may not have been built with NUMA support.\n",
      "2024-07-01 07:32:22.264565: I external/local_xla/xla/stream_executor/cuda/cuda_executor.cc:887] could not open file to read NUMA node: /sys/bus/pci/devices/0000:01:00.0/numa_node\n",
      "Your kernel may have been built without NUMA support.\n",
      "2024-07-01 07:32:22.264609: I external/local_xla/xla/stream_executor/cuda/cuda_executor.cc:887] could not open file to read NUMA node: /sys/bus/pci/devices/0000:01:00.0/numa_node\n",
      "Your kernel may have been built without NUMA support.\n",
      "2024-07-01 07:32:22.264646: I tensorflow/core/common_runtime/gpu/gpu_device.cc:1929] Created device /job:localhost/replica:0/task:0/device:GPU:0 with 6000 MB memory:  -> device: 0, name: NVIDIA GeForce GTX 1660 Ti, pci bus id: 0000:01:00.0, compute capability: 7.5\n",
      "All model checkpoint layers were used when initializing TFBertForSequenceClassification.\n",
      "\n",
      "Some layers of TFBertForSequenceClassification were not initialized from the model checkpoint at neuralmind/bert-base-portuguese-cased and are newly initialized: ['classifier', 'bert/pooler/dense/bias:0', 'bert/pooler/dense/kernel:0']\n",
      "You should probably TRAIN this model on a down-stream task to be able to use it for predictions and inference.\n",
      "2024-07-01 07:32:51.526598: I external/local_xla/xla/service/service.cc:168] XLA service 0x7eff103dca50 initialized for platform CUDA (this does not guarantee that XLA will be used). Devices:\n",
      "2024-07-01 07:32:51.526643: I external/local_xla/xla/service/service.cc:176]   StreamExecutor device (0): NVIDIA GeForce GTX 1660 Ti, Compute Capability 7.5\n",
      "2024-07-01 07:32:51.554813: I tensorflow/compiler/mlir/tensorflow/utils/dump_mlir_util.cc:269] disabling MLIR crash reproducer, set env var `MLIR_CRASH_REPRODUCER_DIRECTORY` to enable.\n",
      "2024-07-01 07:32:51.605290: I external/local_xla/xla/stream_executor/cuda/cuda_dnn.cc:454] Loaded cuDNN version 8902\n",
      "WARNING: All log messages before absl::InitializeLog() is called are written to STDERR\n",
      "I0000 00:00:1719829971.701991   23146 device_compiler.h:186] Compiled cluster using XLA!  This line is logged at most once for the lifetime of the process.\n"
     ]
    },
    {
     "name": "stdout",
     "output_type": "stream",
     "text": [
      "1339/1339 [==============================] - 887s 633ms/step - loss: 0.4014 - accuracy: 0.7998 - precision: 0.8538 - recall: 0.7701 - val_loss: 0.4102 - val_accuracy: 0.7963 - val_precision: 0.8685 - val_recall: 0.6983\n"
     ]
    }
   ],
   "source": [
    "import tensorflow\n",
    "params = {\n",
    "    \"learning_rate\": 0.0001,\n",
    "    \"epsilon\": 1e-8,\n",
    "    \"maxlen\": 128,\n",
    "    \"epochs\": 1, #trial.suggest_int(\"epochs\", 2, 12, step=2)\n",
    "    \"batch_size\": 16\n",
    "}\n",
    "model = train_model(params, [tensorflow.keras.callbacks.EarlyStopping(monitor='val_accuracy', min_delta=0.01, patience=2, verbose=0, mode=\"max\", restore_best_weights=True)])"
   ]
  },
  {
   "cell_type": "code",
   "execution_count": 12,
   "id": "d6e2826a-4290-4565-8021-fdbee8fc15d9",
   "metadata": {},
   "outputs": [],
   "source": [
    "model.save_weights('bert_model_best.h5')\n"
   ]
  },
  {
   "cell_type": "code",
   "execution_count": 8,
   "id": "6fb331b4-ec5f-4559-8253-2194131a75d8",
   "metadata": {},
   "outputs": [
    {
     "name": "stderr",
     "output_type": "stream",
     "text": [
      "2024-07-02 03:39:56.903113: I external/local_xla/xla/stream_executor/cuda/cuda_executor.cc:887] could not open file to read NUMA node: /sys/bus/pci/devices/0000:01:00.0/numa_node\n",
      "Your kernel may have been built without NUMA support.\n",
      "2024-07-02 03:39:56.909624: I external/local_xla/xla/stream_executor/cuda/cuda_executor.cc:887] could not open file to read NUMA node: /sys/bus/pci/devices/0000:01:00.0/numa_node\n",
      "Your kernel may have been built without NUMA support.\n",
      "2024-07-02 03:39:56.909722: I external/local_xla/xla/stream_executor/cuda/cuda_executor.cc:887] could not open file to read NUMA node: /sys/bus/pci/devices/0000:01:00.0/numa_node\n",
      "Your kernel may have been built without NUMA support.\n",
      "2024-07-02 03:39:57.458787: I external/local_xla/xla/stream_executor/cuda/cuda_executor.cc:887] could not open file to read NUMA node: /sys/bus/pci/devices/0000:01:00.0/numa_node\n",
      "Your kernel may have been built without NUMA support.\n",
      "2024-07-02 03:39:57.458898: I external/local_xla/xla/stream_executor/cuda/cuda_executor.cc:887] could not open file to read NUMA node: /sys/bus/pci/devices/0000:01:00.0/numa_node\n",
      "Your kernel may have been built without NUMA support.\n",
      "2024-07-02 03:39:57.458936: I external/local_xla/xla/stream_executor/cuda/cuda_executor.cc:887] could not open file to read NUMA node: /sys/bus/pci/devices/0000:01:00.0/numa_node\n",
      "Your kernel may have been built without NUMA support.\n",
      "2024-07-02 03:39:57.692384: I external/local_xla/xla/stream_executor/cuda/cuda_executor.cc:887] could not open file to read NUMA node: /sys/bus/pci/devices/0000:01:00.0/numa_node\n",
      "Your kernel may have been built without NUMA support.\n",
      "2024-07-02 03:39:57.692413: I tensorflow/core/common_runtime/gpu/gpu_device.cc:2022] Could not identify NUMA node of platform GPU id 0, defaulting to 0.  Your kernel may not have been built with NUMA support.\n",
      "2024-07-02 03:39:57.692497: I external/local_xla/xla/stream_executor/cuda/cuda_executor.cc:887] could not open file to read NUMA node: /sys/bus/pci/devices/0000:01:00.0/numa_node\n",
      "Your kernel may have been built without NUMA support.\n",
      "2024-07-02 03:39:57.692542: I external/local_xla/xla/stream_executor/cuda/cuda_executor.cc:887] could not open file to read NUMA node: /sys/bus/pci/devices/0000:01:00.0/numa_node\n",
      "Your kernel may have been built without NUMA support.\n",
      "2024-07-02 03:39:57.692979: I tensorflow/core/common_runtime/gpu/gpu_device.cc:1929] Created device /job:localhost/replica:0/task:0/device:GPU:0 with 6000 MB memory:  -> device: 0, name: NVIDIA GeForce GTX 1660 Ti, pci bus id: 0000:01:00.0, compute capability: 7.5\n",
      "All model checkpoint layers were used when initializing TFBertForSequenceClassification.\n",
      "\n",
      "Some layers of TFBertForSequenceClassification were not initialized from the model checkpoint at neuralmind/bert-base-portuguese-cased and are newly initialized: ['classifier', 'bert/pooler/dense/bias:0', 'bert/pooler/dense/kernel:0']\n",
      "You should probably TRAIN this model on a down-stream task to be able to use it for predictions and inference.\n"
     ]
    }
   ],
   "source": [
    "import tensorflow as tf\n",
    "from transformers import AutoTokenizer, TFBertForSequenceClassification\n",
    "gpus = tf.config.list_physical_devices('GPU')\n",
    "tf.config.set_logical_device_configuration(\n",
    "    gpus[0],\n",
    "    [tf.config.LogicalDeviceConfiguration(memory_limit=6000)]\n",
    ")\n",
    "tokenizer = AutoTokenizer.from_pretrained(\"neuralmind/bert-base-portuguese-cased\")\n",
    "model = TFBertForSequenceClassification.from_pretrained(\"neuralmind/bert-base-portuguese-cased\", num_labels=1)\n",
    "model.load_weights('best_bert_0.8372921347618103.h5')"
   ]
  },
  {
   "cell_type": "code",
   "execution_count": 1,
   "id": "4015ab74-e378-472c-89b6-04d42d3ffad1",
   "metadata": {},
   "outputs": [
    {
     "data": {
      "text/html": [
       "<div>\n",
       "<style scoped>\n",
       "    .dataframe tbody tr th:only-of-type {\n",
       "        vertical-align: middle;\n",
       "    }\n",
       "\n",
       "    .dataframe tbody tr th {\n",
       "        vertical-align: top;\n",
       "    }\n",
       "\n",
       "    .dataframe thead th {\n",
       "        text-align: right;\n",
       "    }\n",
       "</style>\n",
       "<table border=\"1\" class=\"dataframe\">\n",
       "  <thead>\n",
       "    <tr style=\"text-align: right;\">\n",
       "      <th></th>\n",
       "      <th>Unnamed: 0</th>\n",
       "      <th>text</th>\n",
       "      <th>misinformation</th>\n",
       "      <th>index</th>\n",
       "    </tr>\n",
       "  </thead>\n",
       "  <tbody>\n",
       "    <tr>\n",
       "      <th>0</th>\n",
       "      <td>3722</td>\n",
       "      <td>O PT convocou todos os macumbeiros do Brasil e...</td>\n",
       "      <td>1</td>\n",
       "      <td>3722</td>\n",
       "    </tr>\n",
       "    <tr>\n",
       "      <th>1</th>\n",
       "      <td>16059</td>\n",
       "      <td>“Bem, acredito que esteje tudo bem com você, a...</td>\n",
       "      <td>1</td>\n",
       "      <td>16059</td>\n",
       "    </tr>\n",
       "    <tr>\n",
       "      <th>2</th>\n",
       "      <td>13247</td>\n",
       "      <td>“Laudo médico rompimento da artéria devido o e...</td>\n",
       "      <td>1</td>\n",
       "      <td>13247</td>\n",
       "    </tr>\n",
       "    <tr>\n",
       "      <th>3</th>\n",
       "      <td>11255</td>\n",
       "      <td>… Já está sendo vendida em outros Estados e es...</td>\n",
       "      <td>1</td>\n",
       "      <td>11255</td>\n",
       "    </tr>\n",
       "    <tr>\n",
       "      <th>4</th>\n",
       "      <td>15979</td>\n",
       "      <td>Na Argentina ta tudo normal! STF da Argentina ...</td>\n",
       "      <td>1</td>\n",
       "      <td>15979</td>\n",
       "    </tr>\n",
       "    <tr>\n",
       "      <th>...</th>\n",
       "      <td>...</td>\n",
       "      <td>...</td>\n",
       "      <td>...</td>\n",
       "      <td>...</td>\n",
       "    </tr>\n",
       "    <tr>\n",
       "      <th>1679</th>\n",
       "      <td>6283</td>\n",
       "      <td>￼\\n\\nGeneral Paulo Chagas alerta Ciro Gomes\\n\\...</td>\n",
       "      <td>0</td>\n",
       "      <td>6283</td>\n",
       "    </tr>\n",
       "    <tr>\n",
       "      <th>1680</th>\n",
       "      <td>6707</td>\n",
       "      <td>moradores da cidade argentina santiago del est...</td>\n",
       "      <td>0</td>\n",
       "      <td>6707</td>\n",
       "    </tr>\n",
       "    <tr>\n",
       "      <th>1681</th>\n",
       "      <td>4081</td>\n",
       "      <td>Montes claros parou pra gritar 17.\\nÉ só o com...</td>\n",
       "      <td>0</td>\n",
       "      <td>4081</td>\n",
       "    </tr>\n",
       "    <tr>\n",
       "      <th>1682</th>\n",
       "      <td>14727</td>\n",
       "      <td>A atriz da Globo teve um vídeo vazado na inter...</td>\n",
       "      <td>0</td>\n",
       "      <td>14727</td>\n",
       "    </tr>\n",
       "    <tr>\n",
       "      <th>1683</th>\n",
       "      <td>12575</td>\n",
       "      <td>Lançada nesta terça-feira (29) no Brasil com 5...</td>\n",
       "      <td>0</td>\n",
       "      <td>12575</td>\n",
       "    </tr>\n",
       "  </tbody>\n",
       "</table>\n",
       "<p>1684 rows × 4 columns</p>\n",
       "</div>"
      ],
      "text/plain": [
       "      Unnamed: 0                                               text  \\\n",
       "0           3722  O PT convocou todos os macumbeiros do Brasil e...   \n",
       "1          16059  “Bem, acredito que esteje tudo bem com você, a...   \n",
       "2          13247  “Laudo médico rompimento da artéria devido o e...   \n",
       "3          11255  … Já está sendo vendida em outros Estados e es...   \n",
       "4          15979  Na Argentina ta tudo normal! STF da Argentina ...   \n",
       "...          ...                                                ...   \n",
       "1679        6283  ￼\\n\\nGeneral Paulo Chagas alerta Ciro Gomes\\n\\...   \n",
       "1680        6707  moradores da cidade argentina santiago del est...   \n",
       "1681        4081  Montes claros parou pra gritar 17.\\nÉ só o com...   \n",
       "1682       14727  A atriz da Globo teve um vídeo vazado na inter...   \n",
       "1683       12575  Lançada nesta terça-feira (29) no Brasil com 5...   \n",
       "\n",
       "      misinformation  index  \n",
       "0                  1   3722  \n",
       "1                  1  16059  \n",
       "2                  1  13247  \n",
       "3                  1  11255  \n",
       "4                  1  15979  \n",
       "...              ...    ...  \n",
       "1679               0   6283  \n",
       "1680               0   6707  \n",
       "1681               0   4081  \n",
       "1682               0  14727  \n",
       "1683               0  12575  \n",
       "\n",
       "[1684 rows x 4 columns]"
      ]
     },
     "execution_count": 1,
     "metadata": {},
     "output_type": "execute_result"
    }
   ],
   "source": [
    "import pandas as pd\n",
    "test = pd.read_csv(\"fake_test_balanced_indexed.csv\")\n",
    "test"
   ]
  },
  {
   "cell_type": "code",
   "execution_count": 2,
   "id": "58b7863d-14e6-4ff8-8e2b-5bbc33c04475",
   "metadata": {
    "colab": {
     "base_uri": "https://localhost:8080/",
     "height": 449
    },
    "id": "z1p1DWoAJump",
    "outputId": "2f81ae69-a566-4890-fa8b-0222e741bd44"
   },
   "outputs": [
    {
     "name": "stderr",
     "output_type": "stream",
     "text": [
      "2024-07-02 03:40:32.435390: E external/local_xla/xla/stream_executor/cuda/cuda_dnn.cc:9261] Unable to register cuDNN factory: Attempting to register factory for plugin cuDNN when one has already been registered\n",
      "2024-07-02 03:40:32.435440: E external/local_xla/xla/stream_executor/cuda/cuda_fft.cc:607] Unable to register cuFFT factory: Attempting to register factory for plugin cuFFT when one has already been registered\n",
      "2024-07-02 03:40:32.436406: E external/local_xla/xla/stream_executor/cuda/cuda_blas.cc:1515] Unable to register cuBLAS factory: Attempting to register factory for plugin cuBLAS when one has already been registered\n",
      "2024-07-02 03:40:32.442345: I tensorflow/core/platform/cpu_feature_guard.cc:182] This TensorFlow binary is optimized to use available CPU instructions in performance-critical operations.\n",
      "To enable the following instructions: AVX2 FMA, in other operations, rebuild TensorFlow with the appropriate compiler flags.\n",
      "2024-07-02 03:40:33.510973: W tensorflow/compiler/tf2tensorrt/utils/py_utils.cc:38] TF-TRT Warning: Could not find TensorRT\n"
     ]
    }
   ],
   "source": [
    "import matplotlib.pyplot as plt\n",
    "import numpy\n",
    "from sklearn import metrics\n",
    "from transformers import pipeline\n",
    "import sys\n",
    "from multiprocessing import Queue, Process\n",
    "from typing import Optional\n",
    "from typing import Any\n",
    "from typing import Dict\n",
    "def process_run(func, texts):\n",
    "    def wrapper_func(queue, texts):\n",
    "        try:\n",
    "            result = func(texts)\n",
    "            error = None\n",
    "        except Exception:\n",
    "            result = None\n",
    "            ex_type, ex_value, tb = sys.exc_info()\n",
    "            error = ex_type, ex_value\n",
    "        queue.put((result, error))\n",
    "\n",
    "    def process(texts):\n",
    "        queue = Queue()\n",
    "        p = Process(target = wrapper_func, args = [queue] + [texts])\n",
    "        p.start()\n",
    "        result, error = queue.get()\n",
    "        p.join()\n",
    "        return result, error  \n",
    "\n",
    "    result, error = process(texts)\n",
    "    return result, error\n",
    "def classify(text):\n",
    "    import tensorflow as tf\n",
    "    from transformers import AutoTokenizer, TFBertForSequenceClassification\n",
    "    gpus = tf.config.list_physical_devices('GPU')\n",
    "    tf.config.set_logical_device_configuration(\n",
    "        gpus[0],\n",
    "        [tf.config.LogicalDeviceConfiguration(memory_limit=6000)]\n",
    "    )\n",
    "    tokenizer = AutoTokenizer.from_pretrained(\"neuralmind/bert-base-portuguese-cased\")\n",
    "    model = TFBertForSequenceClassification.from_pretrained(\"neuralmind/bert-base-portuguese-cased\", num_labels=1)\n",
    "    model.load_weights('best_bert_0.8372921347618103.h5')\n",
    "    classifier = pipeline(task=\"text-classification\", model=model, top_k=None, tokenizer=tokenizer)\n",
    "    for i, item in enumerate(text):\n",
    "        if len(item) > 20000:\n",
    "            text[i] = item[:20000]\n",
    "    return classifier(list(text))"
   ]
  },
  {
   "cell_type": "code",
   "execution_count": null,
   "id": "1a1f188d-80d2-47c3-a9ad-e0069c2e4535",
   "metadata": {
    "editable": true,
    "slideshow": {
     "slide_type": ""
    },
    "tags": []
   },
   "outputs": [],
   "source": [
    "test_texts = list(test[\"text\"].values)\n",
    "\n",
    "classify_all = process_run(classify, test_texts)"
   ]
  },
  {
   "cell_type": "code",
   "execution_count": 10,
   "id": "a7bc6df8-7391-46d2-89c5-cae42c823804",
   "metadata": {},
   "outputs": [
    {
     "data": {
      "image/png": "[encoded data removed]",
      "text/plain": [
       "<Figure size 640x480 with 2 Axes>"
      ]
     },
     "metadata": {},
     "output_type": "display_data"
    }
   ],
   "source": [
    "pred_labels = []\n",
    "for classification in classify_all[0]:\n",
    "  if classification[0]['score'] >= 0.5:\n",
    "    pred_labels.append(1)\n",
    "  else:\n",
    "    pred_labels.append(0)\n",
    "\n",
    "confusion_matrix = metrics.confusion_matrix(test[\"misinformation\"].values, pred_labels)\n",
    "\n",
    "cm_display = metrics.ConfusionMatrixDisplay(confusion_matrix = confusion_matrix, display_labels = [\"Não Fake News\", \"Fake News\"])\n",
    "\n",
    "cm_display.plot()\n",
    "plt.show()"
   ]
  },
  {
   "cell_type": "code",
   "execution_count": 16,
   "id": "d07ea5d7-2e6b-464f-913e-98d472731252",
   "metadata": {
    "colab": {
     "base_uri": "https://localhost:8080/",
     "height": 449
    },
    "id": "2jkMALsgc9Bj",
    "outputId": "09cea994-d3d2-42bf-d7cc-23d5a88e42e1"
   },
   "outputs": [
    {
     "data": {
      "image/png": "[encoded data removed]",
      "text/plain": [
       "<Figure size 640x480 with 2 Axes>"
      ]
     },
     "metadata": {},
     "output_type": "display_data"
    }
   ],
   "source": [
    "#old_test = pd.read_csv(\"drive/MyDrive/test_fake.csv\")\n",
    "##classifier = pipeline(task=\"text-classification\", model=model, top_k=None, tokenizer=tokenizer)\n",
    "#classify_all_old = classifier(list(old_test[\"text\"].values))\n",
    "#\n",
    "#pred_labels = []\n",
    "#for classification in classify_all_old:\n",
    "#  label0 = 0\n",
    "#  label1 = 0\n",
    "#  for label in classification:\n",
    "#    if label[\"label\"] == \"LABEL_0\":\n",
    "#      label0=label[\"score\"]\n",
    "#    if label[\"label\"] == \"LABEL_1\":\n",
    "#      label1=label[\"score\"]\n",
    "#  if label0 > label1:\n",
    "#    pred_labels.append(0)\n",
    "#  else:\n",
    "#    pred_labels.append(1)\n",
    "\n",
    "confusion_matrix = metrics.confusion_matrix(test[\"misinformation\"].values, pred_labels)\n",
    "\n",
    "cm_display = metrics.ConfusionMatrixDisplay(confusion_matrix = confusion_matrix, display_labels = [\"Não Fake News\", \"Fake News\"])\n",
    "\n",
    "cm_display.plot()\n",
    "plt.savefig('bert_results.png')\n",
    "\n",
    "plt.show()"
   ]
  },
  {
   "cell_type": "code",
   "execution_count": 11,
   "id": "567e5003-8915-45f5-a916-138272369c22",
   "metadata": {
    "colab": {
     "base_uri": "https://localhost:8080/"
    },
    "id": "hMqhIC2L-nDz",
    "outputId": "12b09ff9-1b69-4c30-8988-ce4110f44007"
   },
   "outputs": [
    {
     "name": "stdout",
     "output_type": "stream",
     "text": [
      "              precision    recall  f1-score   support\n",
      "\n",
      "           0       0.89      0.70      0.78       842\n",
      "           1       0.75      0.91      0.82       842\n",
      "\n",
      "    accuracy                           0.81      1684\n",
      "   macro avg       0.82      0.81      0.80      1684\n",
      "weighted avg       0.82      0.81      0.80      1684\n",
      "\n"
     ]
    }
   ],
   "source": [
    "from sklearn.metrics import classification_report\n",
    "target_names = [\"0\", \"1\"]\n",
    "print(classification_report(test[\"misinformation\"].map(lambda x: str(x)).values, [ str(x) for x in pred_labels], target_names=target_names))"
   ]
  },
  {
   "cell_type": "code",
   "execution_count": 12,
   "id": "466c732c-2e00-4460-bb4d-30f6ede36a6e",
   "metadata": {
    "colab": {
     "base_uri": "https://localhost:8080/"
    },
    "id": "t_BCF_RLAOVR",
    "outputId": "8398d898-3387-4896-97a7-8c4992485e32"
   },
   "outputs": [
    {
     "data": {
      "text/plain": [
       "(array([0.89074355, 0.75121951]),\n",
       " array([0.69714964, 0.91448931]),\n",
       " array([0.78214524, 0.8248527 ]),\n",
       " array([842, 842]))"
      ]
     },
     "execution_count": 12,
     "metadata": {},
     "output_type": "execute_result"
    }
   ],
   "source": [
    "metrics.precision_recall_fscore_support(test[\"misinformation\"].values, pred_labels, average=None, labels=[0, 1])"
   ]
  },
  {
   "cell_type": "code",
   "execution_count": 13,
   "id": "d2328827-1b90-4f82-bd87-d7b8e3dce53c",
   "metadata": {
    "colab": {
     "base_uri": "https://localhost:8080/"
    },
    "id": "-WhVwxg26Rx8",
    "outputId": "b13bbfed-a4d2-40cd-fbf4-c21f25b2388c"
   },
   "outputs": [
    {
     "data": {
      "text/plain": [
       "0.8058194774346793"
      ]
     },
     "execution_count": 13,
     "metadata": {},
     "output_type": "execute_result"
    }
   ],
   "source": [
    "metrics.accuracy_score(test[\"misinformation\"].values, pred_labels, normalize=True)\n"
   ]
  },
  {
   "cell_type": "code",
   "execution_count": 17,
   "id": "916f3c59-14a0-4bf7-8f90-77ac4bc59dc4",
   "metadata": {
    "colab": {
     "base_uri": "https://localhost:8080/",
     "height": 699
    },
    "id": "eVSrC3Ru0P0A",
    "outputId": "7dded4b7-62a9-448d-e609-0d248fc6626a",
    "scrolled": true
   },
   "outputs": [
    {
     "data": {
      "image/png": "[encoded data removed]",
      "text/plain": [
       "<Figure size 800x800 with 2 Axes>"
      ]
     },
     "metadata": {},
     "output_type": "display_data"
    }
   ],
   "source": [
    "import matplotlib.pyplot as plt\n",
    "import json\n",
    "with open(\"best_bert_history.json\", \"r\") as f:\n",
    "    history = json.loads(f.read())\n",
    "\n",
    "acc = history['accuracy']\n",
    "val_acc = history['val_accuracy']\n",
    "loss = history['loss']\n",
    "val_loss = history['val_loss']\n",
    "epochs_range = range(len(history['val_loss']))\n",
    "\n",
    "plt.figure(figsize=(8, 8))\n",
    "plt.subplot(1, 2, 1)\n",
    "plt.plot(epochs_range, acc, label='Training Accuracy')\n",
    "plt.plot(epochs_range, val_acc, label='Validation Accuracy')\n",
    "plt.legend(loc='lower right')\n",
    "plt.title('Training and Validation Accuracy')\n",
    "\n",
    "plt.subplot(1, 2, 2)\n",
    "plt.plot(epochs_range, loss, label='Training Loss')\n",
    "plt.plot(epochs_range, val_loss, label='Validation Loss')\n",
    "plt.legend(loc='upper right')\n",
    "plt.title('Training and Validation Loss')\n",
    "plt.savefig('val_acc_bert.png')\n",
    "plt.show()"
   ]
  },
  {
   "cell_type": "code",
   "execution_count": null,
   "id": "7e4660e7-7153-4bb1-9965-d9bea9ce13b7",
   "metadata": {},
   "outputs": [],
   "source": []
  }
 ],
 "metadata": {
  "kernelspec": {
   "display_name": "Python 3 (ipykernel)",
   "language": "python",
   "name": "python3"
  },
  "language_info": {
   "codemirror_mode": {
    "name": "ipython",
    "version": 3
   },
   "file_extension": ".py",
   "mimetype": "text/x-python",
   "name": "python",
   "nbconvert_exporter": "python",
   "pygments_lexer": "ipython3",
   "version": "3.10.6"
  }
 },
 "nbformat": 4,
 "nbformat_minor": 5
}
